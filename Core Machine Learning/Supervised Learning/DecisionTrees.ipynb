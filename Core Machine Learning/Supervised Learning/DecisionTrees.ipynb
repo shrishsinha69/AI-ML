{
 "cells": [
  {
   "cell_type": "code",
   "execution_count": 1,
   "metadata": {},
   "outputs": [
    {
     "name": "stdout",
     "output_type": "stream",
     "text": [
      "Feature Importances: [0.         0.         0.05393633 0.94606367]\n",
      "Predicted class: 0\n"
     ]
    }
   ],
   "source": [
    "from sklearn.tree import DecisionTreeClassifier\n",
    "from sklearn.datasets import load_iris\n",
    "\n",
    "# Load Iris dataset\n",
    "data = load_iris()\n",
    "X, y = data.data, data.target\n",
    "\n",
    "# Initialize model with max depth control\n",
    "model = DecisionTreeClassifier(max_depth=3, random_state=0)\n",
    "model.fit(X, y)\n",
    "\n",
    "# Display feature importance\n",
    "print(\"Feature Importances:\", model.feature_importances_)\n",
    "\n",
    "# Predict a sample\n",
    "prediction = model.predict([[5.1, 3.5, 1.4, 0.2]])\n",
    "print(\"Predicted class:\", prediction[0])\n"
   ]
  },
  {
   "cell_type": "code",
   "execution_count": null,
   "metadata": {},
   "outputs": [],
   "source": []
  },
  {
   "cell_type": "code",
   "execution_count": null,
   "metadata": {},
   "outputs": [],
   "source": []
  }
 ],
 "metadata": {
  "kernelspec": {
   "display_name": "Python 3",
   "language": "python",
   "name": "python3"
  },
  "language_info": {
   "codemirror_mode": {
    "name": "ipython",
    "version": 3
   },
   "file_extension": ".py",
   "mimetype": "text/x-python",
   "name": "python",
   "nbconvert_exporter": "python",
   "pygments_lexer": "ipython3",
   "version": "3.12.6"
  }
 },
 "nbformat": 4,
 "nbformat_minor": 2
}
