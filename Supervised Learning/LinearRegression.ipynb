{
 "cells": [
  {
   "cell_type": "code",
   "execution_count": 1,
   "metadata": {},
   "outputs": [
    {
     "name": "stdout",
     "output_type": "stream",
     "text": [
      "Mean Squared Error (CV): 47985181753.11723\n",
      "Predicted price: 421934.86590038356\n"
     ]
    }
   ],
   "source": [
    "from sklearn.linear_model import LinearRegression\n",
    "from sklearn.model_selection import cross_val_score\n",
    "import numpy as np\n",
    "\n",
    "# Simulated dataset with multiple features (e.g., number of rooms, square footage, age of the building)\n",
    "X = np.array([[3, 1500, 10], [4, 2000, 5], [2, 850, 20], [3, 1200, 15], [5, 2500, 3]])\n",
    "y = np.array([300000, 500000, 180000, 250000, 600000])  # House prices\n",
    "\n",
    "# Initializing model\n",
    "model = LinearRegression()\n",
    "\n",
    "# Cross-validation to evaluate model performance (5-fold)\n",
    "scores = cross_val_score(model, X, y, cv=5, scoring='neg_mean_squared_error')\n",
    "print(\"Mean Squared Error (CV):\", -scores.mean())\n",
    "\n",
    "# Training the model on full dataset\n",
    "model.fit(X, y)\n",
    "prediction = model.predict([[4, 1800, 10]])  # Predicting price for a new house\n",
    "print(\"Predicted price:\", prediction[0])\n"
   ]
  },
  {
   "cell_type": "code",
   "execution_count": null,
   "metadata": {},
   "outputs": [],
   "source": []
  }
 ],
 "metadata": {
  "kernelspec": {
   "display_name": "Python 3",
   "language": "python",
   "name": "python3"
  },
  "language_info": {
   "codemirror_mode": {
    "name": "ipython",
    "version": 3
   },
   "file_extension": ".py",
   "mimetype": "text/x-python",
   "name": "python",
   "nbconvert_exporter": "python",
   "pygments_lexer": "ipython3",
   "version": "3.12.6"
  }
 },
 "nbformat": 4,
 "nbformat_minor": 2
}
