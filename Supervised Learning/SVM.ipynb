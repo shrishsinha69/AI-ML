{
 "cells": [
  {
   "cell_type": "code",
   "execution_count": 1,
   "metadata": {},
   "outputs": [
    {
     "name": "stdout",
     "output_type": "stream",
     "text": [
      "Prediction for point [1.5, 1.5]: 1\n"
     ]
    }
   ],
   "source": [
    "from sklearn import svm\n",
    "import numpy as np\n",
    "\n",
    "# Sample dataset with non-linear separability\n",
    "X = np.array([[0, 0], [1, 1], [1, 0], [0, 1], [2, 2], [3, 3], [3, 1]])\n",
    "y = [0, 0, 1, 1, 0, 0, 1]\n",
    "\n",
    "# Initialize SVM with polynomial kernel\n",
    "model = svm.SVC(kernel='poly', degree=3, C=1)\n",
    "model.fit(X, y)\n",
    "\n",
    "# Predicting a new point with the non-linear model\n",
    "prediction = model.predict([[1.5, 1.5]])\n",
    "print(\"Prediction for point [1.5, 1.5]:\", prediction[0])\n"
   ]
  },
  {
   "cell_type": "code",
   "execution_count": null,
   "metadata": {},
   "outputs": [],
   "source": []
  }
 ],
 "metadata": {
  "kernelspec": {
   "display_name": "Python 3",
   "language": "python",
   "name": "python3"
  },
  "language_info": {
   "codemirror_mode": {
    "name": "ipython",
    "version": 3
   },
   "file_extension": ".py",
   "mimetype": "text/x-python",
   "name": "python",
   "nbconvert_exporter": "python",
   "pygments_lexer": "ipython3",
   "version": "3.12.6"
  }
 },
 "nbformat": 4,
 "nbformat_minor": 2
}
